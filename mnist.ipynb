{
 "cells": [
  {
   "cell_type": "code",
   "execution_count": 1,
   "id": "c7b0c174-b533-4f35-8157-81095e0d3171",
   "metadata": {},
   "outputs": [
    {
     "name": "stdout",
     "output_type": "stream",
     "text": [
      "%pylab is deprecated, use %matplotlib inline and import the required libraries.\n",
      "Populating the interactive namespace from numpy and matplotlib\n"
     ]
    }
   ],
   "source": [
    "%pylab inline\n",
    "import numpy as np\n",
    "from tqdm import trange\n",
    "import torch\n",
    "from torchvision import datasets, transforms\n",
    "np.set_printoptions(suppress=True)"
   ]
  },
  {
   "cell_type": "code",
   "execution_count": 2,
   "id": "935f215e-4b65-4e5c-baa9-3dfc85d85d97",
   "metadata": {},
   "outputs": [],
   "source": [
    "# Define a transform to convert to tensor (we'll normalize later)\n",
    "transform = transforms.ToTensor()\n",
    "\n",
    "# Download and load the training data\n",
    "train_dataset = datasets.MNIST(root='./data', train=True, download=True, transform=transform)\n",
    "test_dataset = datasets.MNIST(root='./data', train=False, download=True, transform=transform)\n",
    "\n",
    "# Convert to numpy arrays\n",
    "X_train = train_dataset.data.numpy()\n",
    "Y_train = train_dataset.targets.numpy()\n",
    "X_test = test_dataset.data.numpy()\n",
    "Y_test = test_dataset.targets.numpy()\n",
    "\n",
    "# Reshape and normalize\n",
    "X_train = X_train.reshape(-1, 28, 28).astype(np.float32) / 255.0\n",
    "X_test = X_test.reshape(-1, 28, 28).astype(np.float32) / 255.0\n",
    "\n"
   ]
  },
  {
   "cell_type": "code",
   "execution_count": 3,
   "id": "487d9280-cb3b-4efc-a9f3-f62973a0280e",
   "metadata": {},
   "outputs": [],
   "source": [
    "import torch.nn as nn\n",
    "import torch.nn.functional as F"
   ]
  },
  {
   "cell_type": "code",
   "execution_count": 4,
   "id": "991a4a37-557b-4b2f-8c8f-25aeb5d55b94",
   "metadata": {},
   "outputs": [
    {
     "name": "stdout",
     "output_type": "stream",
     "text": [
      "using device: mps\n"
     ]
    }
   ],
   "source": [
    "# attempt to autodetect device\n",
    "device = \"cpu\"\n",
    "if torch.cuda.is_available():\n",
    "    device = \"cuda\"\n",
    "elif hasattr(torch.backends, \"mps\") and torch.backends.mps.is_available():\n",
    "    device = \"mps\"\n",
    "print(f\"using device: {device}\")"
   ]
  },
  {
   "cell_type": "code",
   "execution_count": 5,
   "id": "84f641b9-41e7-436e-ac9e-3d454b73b652",
   "metadata": {},
   "outputs": [
    {
     "data": {
      "text/plain": [
       "SeanNet(\n",
       "  (l1): Linear(in_features=784, out_features=128, bias=True)\n",
       "  (relu): ReLU()\n",
       "  (l2): Linear(in_features=128, out_features=10, bias=True)\n",
       "  (sm): LogSoftmax(dim=1)\n",
       ")"
      ]
     },
     "execution_count": 5,
     "metadata": {},
     "output_type": "execute_result"
    }
   ],
   "source": [
    "class SeanNet(nn.Module):\n",
    "    def __init__(self):\n",
    "        super().__init__()\n",
    "        self.l1 = nn.Linear(784,128)\n",
    "        self.relu = nn.ReLU()\n",
    "        self.l2 = nn.Linear(128,10)\n",
    "        self.sm = nn.LogSoftmax(dim=1)\n",
    "\n",
    "    def forward(self, x):\n",
    "        x = self.relu(self.l1(x))\n",
    "        x = self.l2(x)\n",
    "        x = self.sm(x)\n",
    "        return x\n",
    "model = SeanNet()\n",
    "model.to(device)"
   ]
  },
  {
   "cell_type": "code",
   "execution_count": 6,
   "id": "2ddf6e0b-e177-47ac-a42b-514b3957dc9b",
   "metadata": {},
   "outputs": [],
   "source": [
    "criterion = nn.CrossEntropyLoss(reduction='none')\n",
    "optim = torch.optim.SGD(model.parameters(), lr=0.001, momentum=0)"
   ]
  },
  {
   "cell_type": "code",
   "execution_count": 7,
   "id": "26ce9ede-b71a-4eba-b1db-4af4fadb6cf3",
   "metadata": {},
   "outputs": [],
   "source": [
    "import matplotlib.pyplot as plt"
   ]
  },
  {
   "cell_type": "code",
   "execution_count": 8,
   "id": "f6f482a5-8ccf-40fa-b2a3-d490e14049ac",
   "metadata": {},
   "outputs": [
    {
     "name": "stderr",
     "output_type": "stream",
     "text": [
      "loss 0.66 accuracy 0.82: 100%|███████████████████████████████████████████████████████████████████████████████████████████████████████████████████████████████████████████████| 10000/10000 [00:20<00:00, 476.22it/s]\n"
     ]
    },
    {
     "data": {
      "text/plain": [
       "[<matplotlib.lines.Line2D at 0x15e5bb010>]"
      ]
     },
     "execution_count": 8,
     "metadata": {},
     "output_type": "execute_result"
    },
    {
     "data": {
      "image/png": "[encoded data removed]",
      "text/plain": [
       "<Figure size 640x480 with 1 Axes>"
      ]
     },
     "metadata": {},
     "output_type": "display_data"
    }
   ],
   "source": [
    "losses, accuracies = [], []\n",
    "BS = 128\n",
    "for i in (t := trange(10000)):\n",
    "    optim.zero_grad()\n",
    "    samp = np.random.randint(0, X_train.shape[0], size=(BS))\n",
    "    X = torch.tensor(X_train[samp].reshape((-1, 28*28))).float()\n",
    "    X = X.to(device)\n",
    "    Y = torch.tensor(Y_train[samp]).long()\n",
    "    Y = Y.to(device)\n",
    "\n",
    "    preds = model(X)\n",
    "    loss = criterion(preds, Y)\n",
    "    loss = loss.mean()\n",
    "    loss.backward()\n",
    "    optim.step()\n",
    "    cat = torch.argmax(preds, dim=1)\n",
    "    #print(\"Cat: {} Y: {}\".format(cat, Y))\n",
    "    accuracy = (cat == Y).float().mean()\n",
    "    loss, accuracy = loss.item(), accuracy.item()\n",
    "    losses.append(loss)\n",
    "    accuracies.append(accuracy)\n",
    "\n",
    "    t.set_description(\"loss %.2f accuracy %.2f\" % (loss, accuracy))\n",
    "    \n",
    "#plt.ylim(-0.1, 1.1)\n",
    "plt.plot(losses)\n",
    "plt.plot(accuracies)"
   ]
  },
  {
   "cell_type": "code",
   "execution_count": 9,
   "id": "9b2c2393-ba79-40a9-8e23-9431b0de2615",
   "metadata": {},
   "outputs": [
    {
     "name": "stdout",
     "output_type": "stream",
     "text": [
      "loss 0.5605424642562866 accuracy 0.8675999641418457\n"
     ]
    }
   ],
   "source": [
    "X = torch.tensor(X_test.reshape((-1, 28*28))).float()\n",
    "X = X.to(device)\n",
    "Y = torch.tensor(Y_test).long()\n",
    "Y = Y.to(device)\n",
    "preds = model(X)\n",
    "loss = criterion(preds, Y)\n",
    "loss = loss.mean()\n",
    "loss.backward()\n",
    "optim.step()\n",
    "cat = torch.argmax(preds, dim=1)\n",
    "accuracy = (cat == Y).float().mean()\n",
    "loss, accuracy = loss.item(), accuracy.item()\n",
    "print(\"loss {} accuracy {}\".format(loss, accuracy))"
   ]
  }
 ],
 "metadata": {
  "kernelspec": {
   "display_name": "Python 3 (ipykernel)",
   "language": "python",
   "name": "python3"
  },
  "language_info": {
   "codemirror_mode": {
    "name": "ipython",
    "version": 3
   },
   "file_extension": ".py",
   "mimetype": "text/x-python",
   "name": "python",
   "nbconvert_exporter": "python",
   "pygments_lexer": "ipython3",
   "version": "3.10.14"
  }
 },
 "nbformat": 4,
 "nbformat_minor": 5
}
